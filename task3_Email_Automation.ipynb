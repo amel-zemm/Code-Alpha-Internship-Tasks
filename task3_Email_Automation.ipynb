{
  "nbformat": 4,
  "nbformat_minor": 0,
  "metadata": {
    "colab": {
      "provenance": [],
      "authorship_tag": "ABX9TyMUlF37Eh1iNRZxSYmgo2og",
      "include_colab_link": true
    },
    "kernelspec": {
      "name": "python3",
      "display_name": "Python 3"
    },
    "language_info": {
      "name": "python"
    }
  },
  "cells": [
    {
      "cell_type": "markdown",
      "metadata": {
        "id": "view-in-github",
        "colab_type": "text"
      },
      "source": [
        "<a href=\"https://colab.research.google.com/github/amel-zemm/Code-Alpha-Internship-Tasks/blob/codealpha/task3_Email_Automation.ipynb\" target=\"_parent\"><img src=\"https://colab.research.google.com/assets/colab-badge.svg\" alt=\"Open In Colab\"/></a>"
      ]
    },
    {
      "cell_type": "code",
      "source": [
        "#automating the task of separating emails from my supervisor(more important) and other emails\n",
        "#when u run the code you'll get error cuz u need to put ur real mail logins info\n",
        "#i didnt put my real info so..if u wanna try it make sure to do the necessary changes\n",
        "import imaplib\n",
        "import email\n",
        "\n",
        "# function to connect to the email server and fetch emails\n",
        "def fetch_emails(username, password, server='imap.gmail.com'):\n",
        "    # connect to the IMAP server\n",
        "    with imaplib.IMAP4_SSL(server) as mail:\n",
        "        # login to the email account\n",
        "        #add ur real email info\n",
        "        mail.login(username, password)\n",
        "\n",
        "        # selecting the inbox folder\n",
        "        mail.select('inbox')\n",
        "\n",
        "        # searching for all emails\n",
        "        status, data = mail.search(None, 'ALL')\n",
        "\n",
        "        emails = []\n",
        "        if status == 'OK':\n",
        "            for num in data[0].split():\n",
        "                # fetching the email\n",
        "                status, email_data = mail.fetch(num, '(RFC822)')\n",
        "                if status == 'OK':\n",
        "                    # parsing the email message\n",
        "                    msg = email.message_from_bytes(email_data[0][1])\n",
        "\n",
        "                    # extracting sender's email address\n",
        "                    sender = msg['From']\n",
        "\n",
        "                    # adding sender's email address to the list\n",
        "                    emails.append(sender)\n",
        "\n",
        "    return emails\n",
        "\n",
        "# Function to categorize emails into supervisor and other emails\n",
        "def categorize_emails(emails, supervisor_email):\n",
        "    supervisor_emails = []\n",
        "    other_emails = []\n",
        "\n",
        "    for email_address in emails:\n",
        "        if email_address == supervisor_email:\n",
        "            supervisor_emails.append(email_address)\n",
        "        else:\n",
        "            other_emails.append(email_address)\n",
        "\n",
        "    return supervisor_emails, other_emails\n",
        "\n",
        "# specifying your email credentials\n",
        "username = 'your_email@example.com'\n",
        "password = 'your_password'\n",
        "\n",
        "# specifying the email address of your supervisor\n",
        "# i didn't put my supervisor mail : for privacy\n",
        "supervisor_email = 'supervisor@example.com'\n",
        "\n",
        "# fetching emails\n",
        "emails = fetch_emails(username, password)\n",
        "\n",
        "# categorizing emails into supervisor and other emails\n",
        "supervisor_emails, other_emails = categorize_emails(emails, supervisor_email)\n",
        "\n",
        "# printing the categorized emails\n",
        "print(\"my supervisor mails:\")\n",
        "for email_address in supervisor_emails:\n",
        "    print(\"-\", email_address)\n",
        "\n",
        "print(\"\\nOther unimporntant emails:\")\n",
        "for email_address in other_emails:\n",
        "    print(\"-\", email_address)"
      ],
      "metadata": {
        "id": "WMfBPZy2Div_"
      },
      "execution_count": null,
      "outputs": []
    }
  ]
}