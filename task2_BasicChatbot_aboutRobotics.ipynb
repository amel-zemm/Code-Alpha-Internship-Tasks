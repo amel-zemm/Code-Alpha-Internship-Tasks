{
  "cells": [
    {
      "cell_type": "markdown",
      "metadata": {
        "id": "view-in-github",
        "colab_type": "text"
      },
      "source": [
        "<a href=\"https://colab.research.google.com/github/amel-zemm/Code-Alpha-Internship-Tasks/blob/codealpha/task2_BasicChatbot_aboutRobotics.ipynb\" target=\"_parent\"><img src=\"https://colab.research.google.com/assets/colab-badge.svg\" alt=\"Open In Colab\"/></a>"
      ]
    },
    {
      "cell_type": "code",
      "execution_count": 13,
      "metadata": {
        "colab": {
          "base_uri": "https://localhost:8080/"
        },
        "id": "Jg5OqI3PzWfV",
        "outputId": "d1840b8f-1d6b-4ebe-f22a-5d3ecef4a31b"
      },
      "outputs": [
        {
          "output_type": "stream",
          "name": "stdout",
          "text": [
            "Requirement already satisfied: nltk in /usr/local/lib/python3.10/dist-packages (3.8.1)\n",
            "Requirement already satisfied: click in /usr/local/lib/python3.10/dist-packages (from nltk) (8.1.7)\n",
            "Requirement already satisfied: joblib in /usr/local/lib/python3.10/dist-packages (from nltk) (1.3.2)\n",
            "Requirement already satisfied: regex>=2021.8.3 in /usr/local/lib/python3.10/dist-packages (from nltk) (2023.12.25)\n",
            "Requirement already satisfied: tqdm in /usr/local/lib/python3.10/dist-packages (from nltk) (4.66.2)\n"
          ]
        },
        {
          "output_type": "stream",
          "name": "stderr",
          "text": [
            "[nltk_data] Downloading package punkt to /root/nltk_data...\n",
            "[nltk_data]   Package punkt is already up-to-date!\n"
          ]
        },
        {
          "output_type": "execute_result",
          "data": {
            "text/plain": [
              "True"
            ]
          },
          "metadata": {},
          "execution_count": 13
        }
      ],
      "source": [
        "# Install NLTK\n",
        "!pip install nltk\n",
        "\n",
        "# Import NLTK\n",
        "import nltk\n",
        "from nltk.chat.util import Chat, reflections\n",
        "\n",
        "# Download NLTK resources\n",
        "nltk.download('punkt')\n"
      ]
    },
    {
      "cell_type": "code",
      "execution_count": 14,
      "metadata": {
        "id": "FglL23yuzvzT"
      },
      "outputs": [],
      "source": [
        "# Define pairs of patterns and responses for the chatbot\n",
        "pairs = [\n",
        "    ['hi|hello|hey', ['Hello! I\\'m a chatbot interested in robotics.', 'Hi there! Ready to talk about robotics?', 'Hey! Robotics enthusiast here.']],\n",
        "    ['robot types', ['There are various types of robots including industrial robots, service robots, medical robots, and autonomous robots.', 'Robots can be categorized into different types such as manipulator robots, mobile robots, and collaborative robots.']],\n",
        "    ['machine learning', ['Machine learning is a subset of artificial intelligence that focuses on the development of algorithms that allow computers to learn and make predictions based on data.', 'Machine learning involves the study of computer algorithms that improve automatically through experience.']],\n",
        "    ['robot learning', ['Robots can learn through various methods such as supervised learning, unsupervised learning, and reinforcement learning.', 'Robots can be trained using data and algorithms to improve their performance over time.']],\n",
        "    ['autonomous robots', ['Autonomous robots are robots that can perform tasks or behaviors with a high degree of autonomy, without human intervention.', 'Autonomous robots are capable of making decisions and acting on their own, based on their programming and sensory input.']],\n",
        "    ['computer vision', ['Computer vision is a field of artificial intelligence that enables computers to interpret and understand visual information from the real world.', 'Computer vision involves the development of algorithms and techniques for extracting information from digital images or videos.']],\n",
        "    ['robot perception', ['Robots can perceive their environment using sensors such as cameras, lidar, radar, and ultrasonic sensors.', 'Robots use sensor data to create a representation of their surroundings and make decisions based on that information.']],\n",
        "    ['localization and mapping', ['Robotic localization and mapping is the process by which a robot determines its position and creates a map of its environment.', 'Robotic localization and mapping enable robots to navigate autonomously and perform tasks in complex environments.']],\n",
        "    ['future of robotics', ['The future of robotics holds exciting possibilities, including advancements in artificial intelligence, human-robot collaboration, and robotic automation in various industries.', 'Robots are expected to play an increasingly important role in areas such as healthcare, manufacturing, transportation, and space exploration.']],\n",
        "    ['human-robot interaction', ['Robots can interact with humans through various modalities such as speech, gestures, and touch.', 'Human-robot interaction research focuses on developing natural and intuitive interfaces for communication and collaboration between humans and robots.']],\n",
        "    ['robotics challenges', ['Challenges in robotics research include developing robots that are safe, reliable, and capable of operating in unstructured environments.', 'Other challenges include improving robot perception, manipulation, and decision-making abilities, as well as addressing ethical and societal concerns surrounding the use of robots.']],\n",
        "    ['advanced applications', ['Advanced robotic applications include autonomous vehicles, surgical robots, drones, humanoid robots, and exoskeletons for rehabilitation and assistance.', 'Robots are also being used in agriculture, construction, disaster response, and search and rescue missions.']],\n",
        "    ['bye|goodbye', ['Goodbye! Keep exploring the world of robotics!', 'Bye! Have a great day!', 'See you later!']],\n",
        "    ['(.*)', ['Hmm... I\\'m not sure I understand. Let\\'s talk more about robotics.']]\n",
        "]\n",
        "\n"
      ]
    },
    {
      "cell_type": "code",
      "execution_count": 15,
      "metadata": {
        "id": "f-tpPsjpz-7N"
      },
      "outputs": [],
      "source": [
        "# Create a chatbot with NLTK\n",
        "chatbot = Chat(pairs, reflections)"
      ]
    },
    {
      "cell_type": "code",
      "execution_count": null,
      "metadata": {
        "colab": {
          "base_uri": "https://localhost:8080/"
        },
        "id": "mwyIbNGN0FyV",
        "outputId": "6851f0d8-a6ef-489e-b799-3b949c7e9212"
      },
      "outputs": [
        {
          "output_type": "stream",
          "name": "stdout",
          "text": [
            "Welcome! I'm a chatbot interested in robotics. You can ask me anything about robotics or just give me a key word\n"
          ]
        }
      ],
      "source": [
        "# Start chatting with the user\n",
        "print(\"Welcome! I'm a chatbot interested in robotics. You can ask me anything about robotics or just give me a key word\")\n",
        "while True:\n",
        "    user_input = input(\"You: \")\n",
        "    response = chatbot.respond(user_input)\n",
        "    print(\"Bot:\", response)"
      ]
    }
  ],
  "metadata": {
    "colab": {
      "provenance": [],
      "authorship_tag": "ABX9TyOQrZJlC42wHO3YnDEPOwnK",
      "include_colab_link": true
    },
    "kernelspec": {
      "display_name": "Python 3",
      "name": "python3"
    },
    "language_info": {
      "name": "python"
    }
  },
  "nbformat": 4,
  "nbformat_minor": 0
}