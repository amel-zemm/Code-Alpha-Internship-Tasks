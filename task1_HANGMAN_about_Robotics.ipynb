{
  "nbformat": 4,
  "nbformat_minor": 0,
  "metadata": {
    "colab": {
      "provenance": [],
      "authorship_tag": "ABX9TyPTRIqljPwqw3u/p6bWgcOQ",
      "include_colab_link": true
    },
    "kernelspec": {
      "name": "python3",
      "display_name": "Python 3"
    },
    "language_info": {
      "name": "python"
    }
  },
  "cells": [
    {
      "cell_type": "markdown",
      "metadata": {
        "id": "view-in-github",
        "colab_type": "text"
      },
      "source": [
        "<a href=\"https://colab.research.google.com/github/amel-zemm/Code-Alpha-Internship-Tasks/blob/codealpha/task1_HANGMAN_about_Robotics.ipynb\" target=\"_parent\"><img src=\"https://colab.research.google.com/assets/colab-badge.svg\" alt=\"Open In Colab\"/></a>"
      ]
    },
    {
      "cell_type": "code",
      "execution_count": null,
      "metadata": {
        "id": "7SKokmDxKdRj"
      },
      "outputs": [],
      "source": [
        "# robotics hangman\n",
        "import random\n",
        "def choose_word():\n",
        "    words = [\"robot\", \"sensor\", \"actuator\", \"automation\", \"algorithm\", \"mechatronics\", \"programming\"]\n",
        "    return random.choice(words)\n",
        "\n",
        "def display_word(word, guessed_letters):\n",
        "    displayed_word = \"\"\n",
        "    for letter in word:\n",
        "        if letter in guessed_letters:\n",
        "            displayed_word += letter\n",
        "        else:\n",
        "            displayed_word += \"_\"\n",
        "    return displayed_word\n",
        "\n",
        "def hangman():\n",
        "    word = choose_word()\n",
        "    guessed_letters = []\n",
        "    incorrect_guesses = 0\n",
        "    max_attempts = 6\n",
        "\n",
        "    print(\"hello! Guess the robotics related word!\")\n",
        "    print(display_word(word, guessed_letters))\n",
        "\n",
        "    while True:\n",
        "        guess = input(\"Guess a letter: \").lower()\n",
        "\n",
        "        if guess in guessed_letters:\n",
        "            print(\"You've already guessed that letter.\")\n",
        "        elif guess.isalpha() and len(guess) == 1:\n",
        "            guessed_letters.append(guess)\n",
        "            if guess in word:\n",
        "                print(\"Good!\")\n",
        "            else:\n",
        "                incorrect_guesses += 1\n",
        "                print(\"Incorrect\")\n",
        "                print(\"Attempts remaining:\", max_attempts - incorrect_guesses)\n",
        "        else:\n",
        "            print(\"Please enter a one letter\")\n",
        "\n",
        "        displayed_word = display_word(word, guessed_letters)\n",
        "        print(displayed_word)\n",
        "\n",
        "        if \"_\" not in displayed_word:\n",
        "            print(\"Congratulations! You've guessed the word:\", word)\n",
        "            break\n",
        "\n",
        "        if incorrect_guesses == max_attempts:\n",
        "            print(\"Sorry, you've run out of attempts. The word was:\", word)\n",
        "            break\n",
        "\n",
        "hangman()\n"
      ]
    }
  ]
}